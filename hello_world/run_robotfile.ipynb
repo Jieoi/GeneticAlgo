{
 "cells": [
  {
   "cell_type": "code",
   "execution_count": 1,
   "id": "26151aa9",
   "metadata": {},
   "outputs": [],
   "source": [
    "import pybullet as p"
   ]
  },
  {
   "cell_type": "code",
   "execution_count": 1,
   "id": "d340cde7",
   "metadata": {},
   "outputs": [],
   "source": [
    "import pybullet_data as pd"
   ]
  },
  {
   "cell_type": "code",
   "execution_count": 3,
   "id": "f4de2853",
   "metadata": {},
   "outputs": [
    {
     "data": {
      "text/plain": [
       "'c:\\\\Users\\\\xjie\\\\anaconda3\\\\envs\\\\genAlgo\\\\lib\\\\site-packages\\\\pybullet_data'"
      ]
     },
     "execution_count": 3,
     "metadata": {},
     "output_type": "execute_result"
    }
   ],
   "source": [
    "pd.getDataPath()"
   ]
  },
  {
   "cell_type": "code",
   "execution_count": 4,
   "id": "5ddff7ba",
   "metadata": {},
   "outputs": [
    {
     "data": {
      "text/plain": [
       "0"
      ]
     },
     "execution_count": 4,
     "metadata": {},
     "output_type": "execute_result"
    }
   ],
   "source": [
    "p.connect(p.GUI)"
   ]
  },
  {
   "cell_type": "code",
   "execution_count": 5,
   "id": "24e8b1b6",
   "metadata": {},
   "outputs": [],
   "source": [
    "plane_shape = p.createCollisionShape(p.GEOM_PLANE)\n",
    "floor = p.createMultiBody(plane_shape, plane_shape)\n",
    "p.setGravity(0,0,-10)"
   ]
  },
  {
   "cell_type": "code",
   "execution_count": 8,
   "id": "d3626cc0",
   "metadata": {},
   "outputs": [],
   "source": [
    "robot = p.loadURDF(\"C:\\\\Users\\\\xjie\\\\anaconda3\\\\envs\\\\genAlgo\\\\Lib\\\\site-packages\\\\pybullet_data\\\\r2d2.urdf\")"
   ]
  },
  {
   "cell_type": "code",
   "execution_count": null,
   "id": "0de3ef48",
   "metadata": {},
   "outputs": [],
   "source": []
  }
 ],
 "metadata": {
  "kernelspec": {
   "display_name": "Python 3 (ipykernel)",
   "language": "python",
   "name": "python3"
  },
  "language_info": {
   "codemirror_mode": {
    "name": "ipython",
    "version": 3
   },
   "file_extension": ".py",
   "mimetype": "text/x-python",
   "name": "python",
   "nbconvert_exporter": "python",
   "pygments_lexer": "ipython3",
   "version": "3.8.16"
  }
 },
 "nbformat": 4,
 "nbformat_minor": 5
}
