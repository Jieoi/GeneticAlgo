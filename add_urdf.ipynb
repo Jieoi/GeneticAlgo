{
 "cells": [
  {
   "cell_type": "code",
   "execution_count": 1,
   "id": "26151aa9",
   "metadata": {},
   "outputs": [],
   "source": [
    "import pybullet as p"
   ]
  },
  {
   "cell_type": "code",
   "execution_count": 2,
   "id": "d340cde7",
   "metadata": {},
   "outputs": [],
   "source": [
    "import pybullet_data as pd"
   ]
  },
  {
   "cell_type": "code",
   "execution_count": 3,
   "id": "f4de2853",
   "metadata": {},
   "outputs": [
    {
     "data": {
      "text/plain": [
       "'c:\\\\Users\\\\xjie\\\\anaconda3\\\\envs\\\\genAlgo\\\\lib\\\\site-packages\\\\pybullet_data'"
      ]
     },
     "execution_count": 3,
     "metadata": {},
     "output_type": "execute_result"
    }
   ],
   "source": [
    "pd.getDataPath()"
   ]
  },
  {
   "cell_type": "code",
   "execution_count": 4,
   "id": "5ddff7ba",
   "metadata": {},
   "outputs": [
    {
     "data": {
      "text/plain": [
       "0"
      ]
     },
     "execution_count": 4,
     "metadata": {},
     "output_type": "execute_result"
    }
   ],
   "source": [
    "p.connect(p.GUI)"
   ]
  },
  {
   "cell_type": "code",
   "execution_count": 5,
   "id": "bf28a70e",
   "metadata": {},
   "outputs": [],
   "source": [
    "##do not cache the urdf so that editing will be live\n",
    "p.setPhysicsEngineParameter(enableFileCaching=0)"
   ]
  },
  {
   "cell_type": "code",
   "execution_count": 6,
   "id": "24e8b1b6",
   "metadata": {},
   "outputs": [],
   "source": [
    "plane_shape = p.createCollisionShape(p.GEOM_PLANE)\n",
    "floor = p.createMultiBody(plane_shape, plane_shape)\n",
    "p.setGravity(0,0,-10)"
   ]
  },
  {
   "cell_type": "code",
   "execution_count": 8,
   "id": "d3626cc0",
   "metadata": {},
   "outputs": [],
   "source": [
    "#robot = p.loadURDF(\"C:\\\\Users\\\\xjie\\\\anaconda3\\\\envs\\\\genAlgo\\\\Lib\\\\site-packages\\\\pybullet_data\\\\r2d2.urdf\")"
   ]
  },
  {
   "cell_type": "code",
   "execution_count": 10,
   "id": "0de3ef48",
   "metadata": {},
   "outputs": [
    {
     "ename": "error",
     "evalue": "Cannot load URDF file.",
     "output_type": "error",
     "traceback": [
      "\u001b[1;31m---------------------------------------------------------------------------\u001b[0m",
      "\u001b[1;31merror\u001b[0m                                     Traceback (most recent call last)",
      "Cell \u001b[1;32mIn[10], line 1\u001b[0m\n\u001b[1;32m----> 1\u001b[0m robot \u001b[39m=\u001b[39m p\u001b[39m.\u001b[39;49mloadURDF(\u001b[39m'\u001b[39;49m\u001b[39mC:\u001b[39;49m\u001b[39m\\\\\u001b[39;49;00m\u001b[39mUsers\u001b[39;49m\u001b[39m\\\\\u001b[39;49;00m\u001b[39mxjie\u001b[39;49m\u001b[39m\\\\\u001b[39;49;00m\u001b[39mDocuments\u001b[39;49m\u001b[39m\\\\\u001b[39;49;00m\u001b[39mSIM\u001b[39;49m\u001b[39m\\\\\u001b[39;49;00m\u001b[39mY3S2\u001b[39;49m\u001b[39m\\\\\u001b[39;49;00m\u001b[39mgenAlgo\u001b[39;49m\u001b[39m\\\\\u001b[39;49;00m\u001b[39mrobot\u001b[39;49m\u001b[39m\\\\\u001b[39;49;00m\u001b[39murdf\u001b[39;49m\u001b[39m\\\\\u001b[39;49;00m\u001b[39m101.urdf\u001b[39;49m\u001b[39m'\u001b[39;49m)\n",
      "\u001b[1;31merror\u001b[0m: Cannot load URDF file."
     ]
    }
   ],
   "source": [
    "robot = p.loadURDF('C:\\\\Users\\\\xjie\\\\Documents\\\\SIM\\\\Y3S2\\\\genAlgo\\\\robot\\\\urdf\\\\101.urdf')"
   ]
  }
 ],
 "metadata": {
  "kernelspec": {
   "display_name": "Python 3 (ipykernel)",
   "language": "python",
   "name": "python3"
  },
  "language_info": {
   "codemirror_mode": {
    "name": "ipython",
    "version": 3
   },
   "file_extension": ".py",
   "mimetype": "text/x-python",
   "name": "python",
   "nbconvert_exporter": "python",
   "pygments_lexer": "ipython3",
   "version": "3.8.16"
  }
 },
 "nbformat": 4,
 "nbformat_minor": 5
}
