{
 "cells": [
  {
   "cell_type": "code",
   "execution_count": 8,
   "id": "26151aa9",
   "metadata": {},
   "outputs": [],
   "source": [
    "import pybullet as p"
   ]
  },
  {
   "cell_type": "code",
   "execution_count": 9,
   "id": "d340cde7",
   "metadata": {},
   "outputs": [],
   "source": [
    "import pybullet_data as pd"
   ]
  },
  {
   "cell_type": "code",
   "execution_count": 4,
   "id": "f4de2853",
   "metadata": {},
   "outputs": [
    {
     "data": {
      "text/plain": [
       "'C:\\\\Users\\\\xjie\\\\anaconda3\\\\envs\\\\genAlgo\\\\lib\\\\site-packages\\\\pybullet_data'"
      ]
     },
     "execution_count": 4,
     "metadata": {},
     "output_type": "execute_result"
    }
   ],
   "source": [
    "pd.getDataPath()"
   ]
  },
  {
   "cell_type": "code",
   "execution_count": 5,
   "id": "5ddff7ba",
   "metadata": {},
   "outputs": [
    {
     "data": {
      "text/plain": [
       "0"
      ]
     },
     "execution_count": 5,
     "metadata": {},
     "output_type": "execute_result"
    }
   ],
   "source": [
    "p.connect(p.GUI)"
   ]
  },
  {
   "cell_type": "code",
   "execution_count": 6,
   "id": "24e8b1b6",
   "metadata": {},
   "outputs": [],
   "source": [
    "plane_shape = p.createCollisionShape(p.GEOM_PLANE)\n",
    "floor = p.createMultiBody(plane_shape, plane_shape)\n",
    "p.setGravity(0,0,-10)"
   ]
  },
  {
   "cell_type": "code",
   "execution_count": 7,
   "id": "d3626cc0",
   "metadata": {},
   "outputs": [
    {
     "ename": "SyntaxError",
     "evalue": "(unicode error) 'unicodeescape' codec can't decode bytes in position 2-3: truncated \\UXXXXXXXX escape (2743119498.py, line 1)",
     "output_type": "error",
     "traceback": [
      "\u001b[1;36m  Cell \u001b[1;32mIn[7], line 1\u001b[1;36m\u001b[0m\n\u001b[1;33m    robot = p.loadURDF('C:\\Users\\xjie\\anaconda3\\envs\\genAlgo\\Lib\\site-packages\\pybullet_data\\r3d3.urdf')\u001b[0m\n\u001b[1;37m                       ^\u001b[0m\n\u001b[1;31mSyntaxError\u001b[0m\u001b[1;31m:\u001b[0m (unicode error) 'unicodeescape' codec can't decode bytes in position 2-3: truncated \\UXXXXXXXX escape\n"
     ]
    }
   ],
   "source": [
    "robot = p.loadURDF('C:\\Users\\xjie\\anaconda3\\envs\\genAlgo\\Lib\\site-packages\\pybullet_data\\r3d3.urdf')"
   ]
  },
  {
   "cell_type": "code",
   "execution_count": null,
   "id": "0de3ef48",
   "metadata": {},
   "outputs": [],
   "source": []
  }
 ],
 "metadata": {
  "kernelspec": {
   "display_name": "Python 3 (ipykernel)",
   "language": "python",
   "name": "python3"
  },
  "language_info": {
   "codemirror_mode": {
    "name": "ipython",
    "version": 3
   },
   "file_extension": ".py",
   "mimetype": "text/x-python",
   "name": "python",
   "nbconvert_exporter": "python",
   "pygments_lexer": "ipython3",
   "version": "3.8.16"
  }
 },
 "nbformat": 4,
 "nbformat_minor": 5
}
